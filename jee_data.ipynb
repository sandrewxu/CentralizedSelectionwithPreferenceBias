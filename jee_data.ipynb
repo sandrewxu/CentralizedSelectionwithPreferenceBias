{
 "cells": [
  {
   "cell_type": "code",
   "execution_count": null,
   "metadata": {},
   "outputs": [],
   "source": [
    "import matplotlib.pyplot as plt\n",
    "import pandas as pd\n",
    "import pickle\n",
    "from datetime import datetime\n",
    "import os"
   ]
  },
  {
   "cell_type": "markdown",
   "metadata": {},
   "source": [
    "## Score Distributions (Figure 3)"
   ]
  },
  {
   "cell_type": "markdown",
   "metadata": {},
   "source": [
    "### Preprocessing"
   ]
  },
  {
   "cell_type": "code",
   "execution_count": null,
   "metadata": {},
   "outputs": [],
   "source": [
    "result=pickle.load(open(\"./jee-pickles/jeeresult.pickle\", \"rb\"))"
   ]
  },
  {
   "cell_type": "code",
   "execution_count": null,
   "metadata": {},
   "outputs": [],
   "source": [
    "jee_result = pd.DataFrame(result)\n",
    "jee_result['math'] = pd.to_numeric(jee_result['math'])\n",
    "jee_result['phys'] = pd.to_numeric(jee_result['phys'])\n",
    "jee_result['chem'] = pd.to_numeric(jee_result['chem'])\n",
    "jee_result['mark'] = pd.to_numeric(jee_result['mark'])"
   ]
  },
  {
   "cell_type": "code",
   "execution_count": null,
   "metadata": {},
   "outputs": [],
   "source": [
    "jee_sorted = jee_result.sort_values(by = 'mark', ascending = False)\n",
    "jee_sorted = jee_sorted.head(1000)\n",
    "top_1000_cat = jee_sorted['category'].tolist()\n",
    "# print(top_1000_cat)\n",
    "\n",
    "frequency_table = pd.Series(top_1000_cat).value_counts()\n",
    "print(frequency_table)\n",
    "print(len(top_1000_cat))\n",
    "\n",
    "\n",
    "# TOP 1000\n",
    "## GE    876\n",
    "## ON     99\n",
    "## OC     13\n",
    "## SC      9\n",
    "## ST      3\n",
    "\n",
    "# TOP 5000\n",
    "## GE    4178\n",
    "## ON     692\n",
    "## OC      88\n",
    "## SC      34\n",
    "## ST       8\n",
    "\n",
    "# ALL RESULTS (384977)\n",
    "## GE    232334\n",
    "## ON     88932\n",
    "## SC     36117\n",
    "## OC     15109\n",
    "## ST     12484\n",
    "## OB         1\n",
    "\n",
    "\n",
    "# TOP 7000 (GENDER)\n",
    "## M    6300\n",
    "## F     700\n",
    "\n",
    "# ALL RESULTS (GENDER)\n",
    "## M    286942\n",
    "## F     98028\n",
    "##           7\n"
   ]
  },
  {
   "cell_type": "markdown",
   "metadata": {},
   "source": [
    "### Figure 3a: Gender"
   ]
  },
  {
   "cell_type": "code",
   "execution_count": null,
   "metadata": {},
   "outputs": [],
   "source": [
    "subject_score_male = list(jee_result['mark'][jee_result['GENDER'] == 'M'])\n",
    "subject_score_female = list(jee_result['mark'][jee_result['GENDER'] == 'F'])"
   ]
  },
  {
   "cell_type": "code",
   "execution_count": null,
   "metadata": {},
   "outputs": [],
   "source": [
    "plt.figure().clear() \n",
    "\n",
    "plt.hist(subject_score_male, alpha=0.5, bins=50, density=True, label='Male')\n",
    "plt.hist(subject_score_female, alpha=0.5, bins=50, density=True, label='Female')\n",
    "\n",
    "plt.legend()\n",
    "\n",
    "# Get the current date\n",
    "current_date = datetime.now().strftime('%m-%d-%Y')\n",
    "subdirectory = os.path.join('plots', current_date)\n",
    "os.makedirs(subdirectory, exist_ok=True)\n",
    "\n",
    "filename = os.path.join(subdirectory, f'jee_hist_gender.pdf')\n",
    "plt.savefig(filename, format=\"pdf\")\n",
    "\n",
    "\n",
    "plt.show()"
   ]
  },
  {
   "cell_type": "markdown",
   "metadata": {},
   "source": [
    "### Figure 3b: Birth Category"
   ]
  },
  {
   "cell_type": "code",
   "execution_count": null,
   "metadata": {},
   "outputs": [],
   "source": [
    "subject_score_general = list(jee_result['mark'][jee_result['category'] == 'GE'])\n",
    "subject_score_not_general = list(jee_result['mark'][jee_result['category'] != 'GE'])"
   ]
  },
  {
   "cell_type": "code",
   "execution_count": null,
   "metadata": {},
   "outputs": [],
   "source": [
    "plt.figure().clear() \n",
    "\n",
    "plt.hist(subject_score_general, alpha=0.5, bins=50, density=True, label='General')\n",
    "plt.hist(subject_score_not_general, alpha=0.5, bins=50, density=True, label='Disadvantaged')\n",
    "\n",
    "plt.legend()\n",
    "\n",
    "# Get the current date\n",
    "current_date = datetime.now().strftime('%m-%d-%Y')\n",
    "subdirectory = os.path.join('plots', current_date)\n",
    "os.makedirs(subdirectory, exist_ok=True)\n",
    "\n",
    "filename = os.path.join(subdirectory, f'jee_hist_birth.pdf')\n",
    "plt.savefig(filename, format=\"pdf\")\n",
    "\n",
    "plt.show()"
   ]
  },
  {
   "cell_type": "markdown",
   "metadata": {},
   "source": [
    "## Top Major-Institution Pairs (Figure 4)"
   ]
  },
  {
   "cell_type": "code",
   "execution_count": null,
   "metadata": {},
   "outputs": [],
   "source": [
    "jee_preferences = pd.read_excel(\"IIT-JEE-2009.xlsx\", sheet_name=\"updated_1000\")\n",
    "jee_preferences['Pair'] = jee_preferences.apply(lambda row: f\"{row['Major']}, {row['Institute']}\", axis = 1)\n",
    "\n",
    "# Opening and closing ranks for each institute and major\n",
    "pairs = list(jee_preferences['Pair'])\n",
    "\n",
    "opening_ranks = list(jee_preferences['ge_opening'])\n",
    "closing_ranks = list(jee_preferences['ge_closing'])\n",
    "width = [close - open for close, open in zip(closing_ranks, opening_ranks)]\n",
    "\n",
    "plt.figure().clear()\n",
    "\n",
    "# Create a bar graph with horizontal bars\n",
    "plt.figure(figsize = (7,9))\n",
    "plt.barh(pairs, width, left=opening_ranks)\n",
    "\n",
    "# Set a fixed range for the x-axis\n",
    "# plt.xlim(0, 1000)  # Adjust the range as needed\n",
    "\n",
    "# Add labels and legend\n",
    "plt.xlabel('Opening and closing ranks (GE)')\n",
    "#ax.set_ylabel('Institutes')\n",
    "#ax.set_title('Opening and Closing Ranks for Institutes')\n",
    "#ax.legend()\n",
    "\n",
    "# Get the current date\n",
    "current_date = datetime.now().strftime('%m-%d-%Y')\n",
    "subdirectory = os.path.join('plots', current_date)\n",
    "os.makedirs(subdirectory, exist_ok=True)\n",
    "\n",
    "filename = os.path.join(subdirectory, f'jee_bar_ranks.pdf')\n",
    "plt.savefig(filename, format=\"pdf\", bbox_inches='tight')\n",
    "\n",
    "# Show the plot\n",
    "plt.show()\n"
   ]
  },
  {
   "cell_type": "markdown",
   "metadata": {},
   "source": []
  }
 ],
 "metadata": {
  "kernelspec": {
   "display_name": "Python 3",
   "language": "python",
   "name": "python3"
  },
  "language_info": {
   "codemirror_mode": {
    "name": "ipython",
    "version": 3
   },
   "file_extension": ".py",
   "mimetype": "text/x-python",
   "name": "python",
   "nbconvert_exporter": "python",
   "pygments_lexer": "ipython3",
   "version": "3.12.0"
  }
 },
 "nbformat": 4,
 "nbformat_minor": 2
}
