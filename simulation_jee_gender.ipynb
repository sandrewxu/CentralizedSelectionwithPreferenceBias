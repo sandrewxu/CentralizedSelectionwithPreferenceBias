{
 "cells": [
  {
   "cell_type": "code",
   "execution_count": null,
   "metadata": {},
   "outputs": [],
   "source": [
    "%reload_ext autoreload\n",
    "%autoreload 2\n",
    "%matplotlib widget\n",
    "\n",
    "import pandas as pd\n",
    "import pickle\n",
    "\n",
    "from simulation_framework import *"
   ]
  },
  {
   "cell_type": "markdown",
   "metadata": {},
   "source": [
    "## JEE Dataset"
   ]
  },
  {
   "cell_type": "markdown",
   "metadata": {},
   "source": [
    "### Preprocessing"
   ]
  },
  {
   "cell_type": "code",
   "execution_count": null,
   "metadata": {},
   "outputs": [],
   "source": [
    "result = pickle.load(open(\"./jee-pickles/jeeresult.pickle\", \"rb\"))\n",
    "\n",
    "jee_result = pd.DataFrame(result)\n",
    "jee_result['math'] = pd.to_numeric(jee_result['math'])\n",
    "jee_result['phys'] = pd.to_numeric(jee_result['phys'])\n",
    "jee_result['chem'] = pd.to_numeric(jee_result['chem'])\n",
    "jee_result['mark'] = pd.to_numeric(jee_result['mark'])"
   ]
  },
  {
   "cell_type": "code",
   "execution_count": null,
   "metadata": {},
   "outputs": [],
   "source": [
    "subject_score_male = list(jee_result['mark'][jee_result['GENDER'] == 'M'])\n",
    "subject_score_female = list(jee_result['mark'][jee_result['GENDER'] == 'F'])"
   ]
  },
  {
   "cell_type": "markdown",
   "metadata": {},
   "source": [
    "### Preferences (Major-Institute Pairs)"
   ]
  },
  {
   "cell_type": "code",
   "execution_count": null,
   "metadata": {},
   "outputs": [],
   "source": [
    "jee_preferences = pd.read_excel(\"IIT-JEE-2009.xlsx\", sheet_name=\"updated_1000\")\n",
    "jee_preferences['Pair'] = jee_preferences.apply(lambda row: f\"{row['Major']}, {row['Institute']}\", axis = 1)\n",
    "\n",
    "# Opening and closing ranks for each institute and major\n",
    "pairs = list(jee_preferences['Pair'])\n",
    "\n",
    "opening_ranks = list(jee_preferences['ge_opening'])\n",
    "closing_ranks = list(jee_preferences['ge_closing'])\n",
    "\n",
    "capacities = list(jee_preferences['Capacity']) # Sort by closing rank\n",
    "\n",
    "# SUM OF CAPACITIES: 1659\n",
    "# IN GROUP-WISE, NEED 658 BIAS AND 1001 NONBIAS\n",
    "# TOP 5000 SCORES"
   ]
  },
  {
   "cell_type": "markdown",
   "metadata": {},
   "source": [
    "## Run simulation"
   ]
  },
  {
   "cell_type": "code",
   "execution_count": null,
   "metadata": {},
   "outputs": [],
   "source": [
    "'''\n",
    "    Setup. We use JEE 2009 data.\n",
    "'''\n",
    "\n",
    "# Gauss, beta = 0.25, p_top1\n",
    "\n",
    "# NUMBER OF AGENTS -- total in dataset\n",
    "n = len(jee_result['mark'])\n",
    "\n",
    "# NUMBER OF INSTITUTIONS -- total in dataset\n",
    "p = len(pairs)\n",
    "\n",
    "# INSTITUTIONAL CAPACITIES -- 100\n",
    "k = capacities\n",
    "\n",
    "# TYPE OF TEST -- 'ptop1' or 'ptop5'\n",
    "test_type = 'ptop1'\n",
    "\n",
    "# PREFERENCE GENERATION -- is it always mallows?\n",
    "\n",
    "# ITERATION COUNT\n",
    "iter = 50\n",
    "\n",
    "jee_simulation(n = n, p = p, utils_norm = subject_score_male, utils_bias = subject_score_female, k_inst = capacities, pref = range(len(pairs)), type = test_type, iter = iter, limit = 7000, attr = 'gender', saveImg=True)\n",
    "\n",
    "# jee_simulation(n = n, p = p, utils_norm = subject_score_male, utils_bias = subject_score_female, k_inst = capacities, pref = range(len(pairs)), type = 'ptop1', iter = iter, limit = 7000, attr = 'gender', saveImg=True)"
   ]
  }
 ],
 "metadata": {
  "kernelspec": {
   "display_name": "Python 3",
   "language": "python",
   "name": "python3"
  },
  "language_info": {
   "codemirror_mode": {
    "name": "ipython",
    "version": 3
   },
   "file_extension": ".py",
   "mimetype": "text/x-python",
   "name": "python",
   "nbconvert_exporter": "python",
   "pygments_lexer": "ipython3",
   "version": "3.12.0"
  }
 },
 "nbformat": 4,
 "nbformat_minor": 2
}
