{
 "cells": [
  {
   "cell_type": "code",
   "execution_count": null,
   "metadata": {},
   "outputs": [],
   "source": [
    "%reload_ext autoreload\n",
    "%autoreload 2\n",
    "%matplotlib widget\n",
    "\n",
    "import copy\n",
    "import numpy as np\n",
    "import pandas as pd\n",
    "import pickle\n",
    "\n",
    "from matplotlib import cm\n",
    "import matplotlib.pyplot as plt\n",
    "from mpl_toolkits.mplot3d import Axes3D\n",
    "from matplotlib import rc, rcParams\n",
    "from itertools import combinations\n",
    "\n",
    "home_folder = './'\n",
    "\n",
    "from tqdm.notebook import tqdm\n",
    "from scipy.integrate import quad\n",
    "\n",
    "from simulation_framework import *\n",
    "from simulation_noise import *\n",
    "from simulation_corrpref import *\n",
    "from simulation_relaxedbounds import *"
   ]
  },
  {
   "cell_type": "code",
   "execution_count": null,
   "metadata": {},
   "outputs": [],
   "source": [
    "'''\n",
    "    Setup. We fix n = 1000, p = 10, and kℓ = 100 for each ℓ ∈ [10]. For each D ∈ {D_pareto,D_gauss} and β ∈ {1/4, 1/2, 3/4}. \n",
    "    We vary 0 ≤ γ ≤ γmax and report Ptop1, Ptop5, and U over 50 iterations.\n",
    "    We observed similar results with other choices of p and kℓ (Supplementary Material D).\n",
    "'''\n",
    "\n",
    "# Gauss, beta = 0.25, p_top1\n",
    "\n",
    "# NUMBER OF AGENTS -- 1000\n",
    "n = 1000\n",
    "\n",
    "# NUMBER OF INSTITUTIONS -- 10\n",
    "p = 5\n",
    "\n",
    "# INSTITUTIONAL CAPACITIES -- 100   \n",
    "k = [100] * p\n",
    "\n",
    "# BETA (DISADVANTAGE RATIO) -- 1/4, 1/2, 3/4\n",
    "beta = 0.25\n",
    "\n",
    "# DISTRIBUTION TYPE -- 'gaussian' or 'pareto'\n",
    "dist_type = 'gaussian'\n",
    "\n",
    "# TYPE OF TEST -- 'ptop1', 'ptop5', or 'u'\n",
    "test_type = 'ptop1'\n",
    "\n",
    "# PREFERENCE GENERATION -- is it always mallows?\n",
    "\n",
    "# ITERATION COUNT\n",
    "iter = 50\n",
    "\n",
    "# phi = 0.25\n",
    "\n",
    "for test_type in ['ptop1', 'ptop5', 'u']:\n",
    "    for dist_type in ['gaussian', 'pareto']:\n",
    "        for beta in [0.25, 0.5, 0.75]:\n",
    "            synth_simulation(n = n, p = p, k_inst = k, phi = 0.25, dist = dist_type, beta = beta, type = test_type, iter = iter, saveImg = True, showImg = False)\n",
    "\n",
    "# synth_simulation(n = n, p = p, k_inst = k, phi = 0.25, dist = dist_type, beta = beta, type = test_type, iter = iter, saveImg = True, showImg = True)"
   ]
  },
  {
   "cell_type": "code",
   "execution_count": null,
   "metadata": {},
   "outputs": [],
   "source": [
    "for test in ['inst', 'group']:\n",
    "    for dist in ['gaussian', 'pareto']:\n",
    "        for type in ['ptop5', 'ptop1']:\n",
    "            util_noise_simulation(n = 1000, p = 5, k_inst = [100] * 5, gamma = 0, phi = 0.25, test = test, dist = dist, beta = 1, type = type, iter = 50)"
   ]
  },
  {
   "cell_type": "code",
   "execution_count": null,
   "metadata": {},
   "outputs": [],
   "source": [
    "for dist in ['gaussian', 'pareto']:\n",
    "    for type in ['ptop5', 'ptop1', 'u']:\n",
    "        beta_noise_simulation(n = 1000, p = 5, k_inst = [100] * 5, gamma = 0, phi = 0.25, dist = dist, std = 0.1, type = type, iter = 50, saveImg = True)"
   ]
  },
  {
   "cell_type": "code",
   "execution_count": null,
   "metadata": {},
   "outputs": [],
   "source": [
    "for dist in ['gaussian', 'pareto']:\n",
    "    for type in ['ptop5', 'ptop1', 'u']:\n",
    "        for beta in [0.75]:\n",
    "            simulation_corrpref(n = 1000, p = 5, k_inst = [100] * 5, dist = dist, beta = beta, type = type, iter = 50, saveImg= True)"
   ]
  },
  {
   "cell_type": "code",
   "execution_count": null,
   "metadata": {},
   "outputs": [],
   "source": [
    "for dist in ['gaussian', 'pareto']:\n",
    "    for type in ['ptop5', 'ptop1', 'u']:\n",
    "        for beta in [0.75]:\n",
    "            simulation_relaxedbounds(n=1000, p=5, k_inst=[100]*5, gamma=0, phi=0.25, dist=dist, beta=beta, type=type, iter=50, saveImg=True, showImg=True)"
   ]
  }
 ],
 "metadata": {
  "kernelspec": {
   "display_name": "Python 3",
   "language": "python",
   "name": "python3"
  },
  "language_info": {
   "name": "python",
   "version": "3.12.0"
  }
 },
 "nbformat": 4,
 "nbformat_minor": 2
}
